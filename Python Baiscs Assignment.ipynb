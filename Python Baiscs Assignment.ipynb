{
  "nbformat": 4,
  "nbformat_minor": 0,
  "metadata": {
    "colab": {
      "provenance": []
    },
    "kernelspec": {
      "name": "python3",
      "display_name": "Python 3"
    },
    "language_info": {
      "name": "python"
    }
  },
  "cells": [
    {
      "cell_type": "code",
      "execution_count": null,
      "metadata": {
        "id": "KgHu1HIvEBZQ"
      },
      "outputs": [],
      "source": []
    },
    {
      "cell_type": "markdown",
      "source": [],
      "metadata": {
        "id": "R1hUZWviEEFq"
      }
    },
    {
      "cell_type": "markdown",
      "source": [],
      "metadata": {
        "id": "LYL-_1iLGQGv"
      }
    },
    {
      "cell_type": "markdown",
      "source": [],
      "metadata": {
        "id": "dUzX5Z8qGQE8"
      }
    },
    {
      "cell_type": "markdown",
      "source": [
        "Q1. EXPLAIN THE KEY FEATURES OF PYTHON THAT MAKE IT POPULAR CHOICE FOR CODING?\n",
        "\n",
        "ANS1. THE KEY FEATURES OF PYTHON THAT MAKE IT POPULAR CHOICE FOR CODING ARE:\n",
        "      \n",
        "      1. A LOT OF LIBRARIES IN IT.\n",
        "      \n",
        "      2. EASY OF LEARNING.\n",
        "\n",
        "      3. WIDELY USED IN INDUSTRY.\n",
        "      \n",
        "      4. DUE TO ITS VERSATILITY.\n",
        "\n",
        "Q2. DESCRIBE THE ROLE OF PREDIFINED KEYWORDS IN PYTHON AND PROVIDE A EXAMPLE OF HOW THEY ARE USED IN A PROGRAM?\n",
        "\n",
        "ANS2. IN PYTHON, KEYWORDS ARE RESERVED WORDS THAT HAVE A SPECIAL MEANING AND CANNOT BE USED AS IDENTIFIERS.\n",
        "\n",
        "NOW, PROVIDING AN EXAMPLE OF HOW THEY ARE USED:\n",
        "\n",
        "     X=10\n",
        "     if X<=100:        #if IS A KEYWORD HERE\n",
        "         print(\"X IS SMALLER THAN 100\")\n",
        "     else:             #else IS A KEYWORD HERE\n",
        "         print(\"X IS GREATER THAN 100)\n",
        "\n",
        "Q3.COMPARE AND CONTRAST MUTABLE AND IMMUTABLE OBJECTS IN PYTHON WITH EXAMPLES?\n",
        "\n",
        "ANS.  MUTABLE OBJECTS :\n",
        "\n",
        "     MUTABLE OBJECTS ARE THOSE WHICH CAN BE MODIFIED AFTER THEIR CREATION.\n",
        "     FOR EXAMPLE: LISTS, DICTIONARIES, AND SETS.           \n",
        "\n",
        "IMMUTABLE OBJECTS:\n",
        "\n",
        "    IMMUTABLE OBJECTS ARE THOSE WHICH CANNOT BE CHANGED ONCE THEY ARE CREATED.\n",
        "    FOR EXAMPLE: TUPLES, STRINGS, AND NUMBERS.\n",
        "\n",
        "\n",
        "Q4.DISCUSS THE DIFFERENT TYPES OF OPERATORS IN PYTHON AND PROVIDE EXAMPLES OF HOW THEY ARE USED.\n",
        "\n",
        "ANS4.IN PYTHON, OPERATORS ARE SYMBOLS THAT PERFORM OPERATIONS ON VARIABLES AND VALUES.\n",
        "\n",
        "    HERE ARE THE MAIN TYPES OF OPERATORS:\n",
        "\n",
        "    1.ARITHMETIC OPERATORS\n",
        "    2.MEMBERSHIP OPERATORS\n",
        "    3.IDENTITY OPERATORS\n",
        "    4.LOGICAL OPERRAOTRS\n",
        "    5.COMPARISON OPERATORS\n",
        "    6.ASSINGMENT OPERATORS\n",
        "    7.BITWISE OPERATORS\n",
        "\n",
        "EXAMPLES OF HOW THEY ARE USED :\n",
        "     \n",
        "    \n",
        "    \n",
        "    1.    A = [1, 2, 3]\n",
        "          B = A\n",
        "          RESULT = a is b  # RESULT IS TRUE\n",
        "\n",
        "    2.    A= TRUE\n",
        "          B= FALSE\n",
        "          RESULT= A and B  #RESULT IS FALSE\n",
        "\n",
        "\n",
        "Q5.EXPLAIN THE CONCEPT OF TYPE CASTING IN PYTHON WITH EXAMPLES?\n",
        "\n",
        "ANS5. TYPE CASTING IN PYTHON REFERS TO THE CONVERSION OF ONE DATA TYPE TO ANOTHER.\n",
        "\n",
        "\n",
        "FOR EXAMPLE:\n",
        "           \n",
        "           number = 3.14\n",
        "           \n",
        "           integer_number = int(number)  # RESULT IS 3\n",
        "           \n",
        "           print(integer_number)\n",
        "\n",
        "\n",
        "Q6. HOW DO CONDITIONAL STATEMENTS WORK IN PYTHON? ILLUMINATE WITH EXAMPLES?\n",
        "\n",
        "ANS6.  CONDITIONAL STATEMENTS IN PYTHON ALLOW YOU TO EXECUTE CERTAIN BLOCKS OF CODE BASED ON CONDITIONS.\n",
        "\n",
        "\n",
        "FOR EXAMPLE:\n",
        "            # DEFINE A VARIABLE\n",
        "            age = 10\n",
        "\n",
        "            # CHECK CONDITIONS\n",
        "            if age >= 18:\n",
        "                print(\"You are an adult.\")\n",
        "            elif age >= 13:\n",
        "                print(\"You are a teenager.\")\n",
        "            else:\n",
        "                print(\"You are a child.\")  # THIS CODE RUNS IF ALL PREVIOUS CONDITIONS ARE FALSE\n",
        "\n",
        "\n",
        "Q7.DESCRIBE THE DIFFERENT TYPES OF LOOPS IN PYTHON AND THEIR USE CASES WITH EXAMPLES?\n",
        "\n",
        "\n",
        "ANS7.  IN PYTHON, LOOPS ALLOW YOU TO EXECUTE A BLOCK OF CODE REPEATEDLY BASED ON CERTAIN CONDITIONS. THERE ARE THREE MAIN TYPES OF LOOPS: FOR, WHILE, AND NESTED LOOPS.\n",
        "\n",
        "\n",
        "          1. FOR LOOP:\n",
        "             THE FOR LOOP IS USED TO ITERATE OVER SEQUENCES SUCH AS LISTS, TUPLES, STRINGS, OR RANGES.\n",
        "          \n",
        "          2. WHILE LOOP:\n",
        "            THE WHILE LOOP REPEATS A BLOCK OF CODE AS LONG AS A CONDITION IS TRUE. IT IS USEFUL WHEN YOU DO NOT KNOW IN ADVANCE HOW MANY TIMES YOU NEED TO ITERATE.\n",
        "FOR EXAMPLE:\n",
        "          \n",
        "\n",
        "          # DEFINE A VARIABLE\n",
        "            count = 0\n",
        "\n",
        "          # RUN THE LOOP WHILE THE CONDITION IS TRUE\n",
        "            while count < 5:\n",
        "                print(count)\n",
        "                count += 1\n",
        "# OUTPUT:\n",
        "# 0\n",
        "# 1\n",
        "# 2\n",
        "# 3\n",
        "# 4\n",
        "           "
      ],
      "metadata": {
        "id": "wGEQpFrHFsQY"
      }
    },
    {
      "cell_type": "code",
      "source": [],
      "metadata": {
        "id": "1VftEFBSJCEs"
      },
      "execution_count": null,
      "outputs": []
    },
    {
      "cell_type": "markdown",
      "source": [],
      "metadata": {
        "id": "NnHJGu-pGRTq"
      }
    }
  ]
}